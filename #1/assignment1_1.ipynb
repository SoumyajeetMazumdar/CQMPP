{
 "cells": [
  {
   "cell_type": "code",
   "execution_count": 8,
   "metadata": {},
   "outputs": [],
   "source": [
    "import numpy as np\n",
    "import matplotlib as plt\n",
    "\n",
    "def f(x):\n",
    "    return (1/np.sqrt(2)) - np.cos(x)\n",
    "\n",
    "def f_prime(x):\n",
    "    return np.sin(x)"
   ]
  },
  {
   "cell_type": "code",
   "execution_count": 9,
   "metadata": {},
   "outputs": [
    {
     "name": "stdout",
     "output_type": "stream",
     "text": [
      "Iteration Current Root        Error               \n",
      "--------------------------------------------------\n",
      "1         1.0000000000        2.0000000000e+00    \n",
      "2         1.5000000000        1.0000000000e+00    \n",
      "3         1.7500000000        5.0000000000e-01    \n",
      "4         1.8750000000        2.5000000000e-01    \n",
      "5         1.9375000000        1.2500000000e-01    \n",
      "6         1.9687500000        6.2500000000e-02    \n",
      "7         1.9843750000        3.1250000000e-02    \n",
      "8         1.9921875000        1.5625000000e-02    \n",
      "9         1.9960937500        7.8125000000e-03    \n",
      "10        1.9980468750        3.9062500000e-03    \n",
      "11        1.9990234375        1.9531250000e-03    \n",
      "12        1.9995117188        9.7656250000e-04    \n",
      "13        1.9997558594        4.8828125000e-04    \n",
      "14        1.9998779297        2.4414062500e-04    \n",
      "15        1.9999389648        1.2207031250e-04    \n",
      "16        1.9999694824        6.1035156250e-05    \n",
      "17        1.9999847412        3.0517578125e-05    \n",
      "18        1.9999923706        1.5258789062e-05    \n",
      "19        1.9999961853        7.6293945312e-06    \n",
      "20        1.9999980927        3.8146972656e-06    \n",
      "21        1.9999990463        1.9073486328e-06    \n",
      "22        1.9999995232        9.5367431641e-07    \n",
      "23        1.9999997616        4.7683715820e-07    \n",
      "24        1.9999998808        2.3841857910e-07    \n",
      "25        1.9999999404        1.1920928955e-07    \n",
      "26        1.9999999702        5.9604644775e-08    \n",
      "27        1.9999999851        2.9802322388e-08    \n",
      "28        1.9999999925        1.4901161194e-08    \n",
      "29        1.9999999963        7.4505805969e-09    \n",
      "30        1.9999999981        3.7252902985e-09    \n",
      "31        1.9999999991        1.8626451492e-09    \n",
      "32        1.9999999995        9.3132257462e-10    \n",
      "33        1.9999999998        4.6566128731e-10    \n",
      "34        1.9999999999        2.3283064365e-10    \n",
      "35        1.9999999999        1.1641532183e-10    \n"
     ]
    },
    {
     "data": {
      "text/plain": [
       "(1.9999999999417923, 35)"
      ]
     },
     "execution_count": 9,
     "metadata": {},
     "output_type": "execute_result"
    }
   ],
   "source": [
    "#bisection method\n",
    "def bisection_method(lower, upper, tol=1e-10, max_iter=100):\n",
    "    if f(upper) * f(lower) < 0: # root existence condition\n",
    "        raise ValueError(\"f(a) and f(b) must have opposite signs.\")\n",
    "    \n",
    "    print(f\"{'Iteration':<10}{'Current Root':<20}{'Error':<20}\")\n",
    "    print(\"-\" * 50)\n",
    "    \n",
    "    iterations = 0\n",
    "    while abs(upper - lower) > tol and iterations < max_iter:\n",
    "        mid = (upper + lower) / 2\n",
    "        error = abs(upper-lower)\n",
    "        \n",
    "        print(f\"{iterations+1:<10}{mid:<20.10f}{error:<20.10e}\")\n",
    "        \n",
    "        \n",
    "        if f(mid) == 0: # exact root found\n",
    "            break\n",
    "        elif f(upper) * f(mid) < 0:\n",
    "            upper = mid\n",
    "        else:\n",
    "            lower = mid\n",
    "        iterations += 1\n",
    "\n",
    "    return mid, iterations\n",
    "\n",
    "# Run the verbose bisection method\n",
    "bisection_method(0, 2)"
   ]
  }
 ],
 "metadata": {
  "kernelspec": {
   "display_name": "Python 3",
   "language": "python",
   "name": "python3"
  },
  "language_info": {
   "codemirror_mode": {
    "name": "ipython",
    "version": 3
   },
   "file_extension": ".py",
   "mimetype": "text/x-python",
   "name": "python",
   "nbconvert_exporter": "python",
   "pygments_lexer": "ipython3",
   "version": "3.12.7"
  }
 },
 "nbformat": 4,
 "nbformat_minor": 2
}
