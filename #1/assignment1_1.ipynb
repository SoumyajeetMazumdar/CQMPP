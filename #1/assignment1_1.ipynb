{
 "cells": [
  {
   "cell_type": "code",
   "execution_count": 6,
   "metadata": {},
   "outputs": [],
   "source": [
    "import numpy as np\n",
    "import matplotlib.pyplot as plt\n",
    "\n",
    "x_true=np.pi/4 # defining root as global var \n",
    "machine_eps = np.finfo(float).eps\n",
    "\n",
    "def f(x):\n",
    "    return (1/np.sqrt(2)) - np.cos(x)\n",
    "\n",
    "def f_prime(x):\n",
    "    return np.sin(x)"
   ]
  },
  {
   "cell_type": "code",
   "execution_count": 7,
   "metadata": {},
   "outputs": [
    {
     "name": "stdout",
     "output_type": "stream",
     "text": [
      "Iteration Current Root        Error               \n",
      "--------------------------------------------------\n",
      "1         1.0000000000        2.0000000000e+00    \n",
      "2         0.5000000000        1.0000000000e+00    \n",
      "3         0.7500000000        5.0000000000e-01    \n",
      "4         0.8750000000        2.5000000000e-01    \n",
      "5         0.8125000000        1.2500000000e-01    \n",
      "6         0.7812500000        6.2500000000e-02    \n",
      "7         0.7968750000        3.1250000000e-02    \n",
      "8         0.7890625000        1.5625000000e-02    \n",
      "9         0.7851562500        7.8125000000e-03    \n",
      "10        0.7871093750        3.9062500000e-03    \n",
      "11        0.7861328125        1.9531250000e-03    \n",
      "12        0.7856445312        9.7656250000e-04    \n",
      "13        0.7854003906        4.8828125000e-04    \n",
      "14        0.7852783203        2.4414062500e-04    \n",
      "15        0.7853393555        1.2207031250e-04    \n",
      "16        0.7853698730        6.1035156250e-05    \n",
      "17        0.7853851318        3.0517578125e-05    \n",
      "18        0.7853927612        1.5258789062e-05    \n",
      "19        0.7853965759        7.6293945312e-06    \n",
      "20        0.7853984833        3.8146972656e-06    \n",
      "21        0.7853975296        1.9073486328e-06    \n",
      "22        0.7853980064        9.5367431641e-07    \n",
      "23        0.7853982449        4.7683715820e-07    \n",
      "24        0.7853981256        2.3841857910e-07    \n",
      "25        0.7853981853        1.1920928955e-07    \n",
      "26        0.7853981555        5.9604644775e-08    \n",
      "27        0.7853981704        2.9802322388e-08    \n",
      "28        0.7853981629        1.4901161194e-08    \n",
      "29        0.7853981666        7.4505805969e-09    \n",
      "30        0.7853981648        3.7252902985e-09    \n",
      "31        0.7853981638        1.8626451492e-09    \n",
      "32        0.7853981634        9.3132257462e-10    \n",
      "33        0.7853981636        4.6566128731e-10    \n",
      "34        0.7853981635        2.3283064365e-10    \n",
      "35        0.7853981634        1.1641532183e-10    \n",
      "36        0.7853981634        5.8207660913e-11    \n",
      "37        0.7853981634        2.9103830457e-11    \n",
      "38        0.7853981634        1.4551915228e-11    \n",
      "39        0.7853981634        7.2759576142e-12    \n",
      "40        0.7853981634        3.6379788071e-12    \n",
      "41        0.7853981634        1.8189894035e-12    \n",
      "42        0.7853981634        9.0949470177e-13    \n",
      "43        0.7853981634        4.5474735089e-13    \n",
      "44        0.7853981634        2.2737367544e-13    \n",
      "45        0.7853981634        1.1368683772e-13    \n",
      "46        0.7853981634        5.6843418861e-14    \n",
      "47        0.7853981634        2.8421709430e-14    \n",
      "48        0.7853981634        1.4210854715e-14    \n",
      "49        0.7853981634        7.1054273576e-15    \n",
      "50        0.7853981634        3.5527136788e-15    \n",
      "51        0.7853981634        1.7763568394e-15    \n",
      "52        0.7853981634        8.8817841970e-16    \n",
      "53        0.7853981634        4.4408920985e-16    \n"
     ]
    },
    {
     "data": {
      "text/plain": [
       "(0.7853981633974485, 53)"
      ]
     },
     "execution_count": 7,
     "metadata": {},
     "output_type": "execute_result"
    }
   ],
   "source": [
    "#bisection method\n",
    "errors_bisection = [] #to save the errors with each iteration\n",
    "# errors_bisection1 = [] # to the approximate errors as |lower-upper|\n",
    "\n",
    "def bisection_method(lower, upper, tol=machine_eps, max_iter=100):\n",
    "    if f(upper) * f(lower) > 0: # root existence condition\n",
    "        raise ValueError(\"f(a) and f(b) must have opposite signs.\")\n",
    "    \n",
    "    print(f\"{'Iteration':<10}{'Current Root':<20}{'Error':<20}\")\n",
    "    print(\"-\" * 50)\n",
    "    \n",
    "    iterations = 0\n",
    "    while abs(upper - lower) > tol and iterations < max_iter:\n",
    "        mid = (upper + lower) / 2\n",
    "        error = abs(upper-lower)\n",
    "        errors_bisection.append(abs(x_true - mid))\n",
    "        # errors_bisection1.append(error)\n",
    "        \n",
    "        print(f\"{iterations+1:<10}{mid:<20.10f}{error:<20.10e}\")\n",
    "        \n",
    "        \n",
    "        if f(mid) == 0: # exact root found\n",
    "            break\n",
    "        elif f(lower) * f(mid) < 0:\n",
    "            upper = mid\n",
    "        else:\n",
    "            lower = mid\n",
    "        iterations += 1\n",
    "\n",
    "    return mid, iterations\n",
    "\n",
    "# Run the verbose bisection method\n",
    "bisection_method(0, 2)"
   ]
  },
  {
   "cell_type": "code",
   "execution_count": 8,
   "metadata": {},
   "outputs": [
    {
     "name": "stdout",
     "output_type": "stream",
     "text": [
      "Iteration Current Root        Error               \n",
      "--------------------------------------------------\n",
      "1         1.5739402834        7.8854212000e-01    \n",
      "2         0.8636860405        7.8287877152e-02    \n",
      "3         0.7880954349        2.6972715091e-03    \n",
      "4         0.7854017847        3.6213345186e-06    \n",
      "5         0.7853981634        6.5570882057e-12    \n",
      "6         0.7853981634        1.1102230246e-16    \n"
     ]
    },
    {
     "data": {
      "text/plain": [
       "(0.7853981633974484, 6)"
      ]
     },
     "execution_count": 8,
     "metadata": {},
     "output_type": "execute_result"
    }
   ],
   "source": [
    "error_nr = []\n",
    "\n",
    "def newton_raphson(x0, tol=machine_eps, max_iter=100):\n",
    "    \n",
    "    print(f\"{'Iteration':<10}{'Current Root':<20}{'Error':<20}\")\n",
    "    print(\"-\" * 50)\n",
    "    \n",
    "    x = x0 # initial guess\n",
    "    iterations = 0\n",
    "    while abs(f(x)) > tol and iterations < max_iter:\n",
    "        x = x - f(x) / f_prime(x)\n",
    "        error = abs(x_true - x)\n",
    "        error_nr.append(error)\n",
    "        \n",
    "        print(f\"{iterations+1:<10}{x:<20.10f}{error:<20.10e}\")\n",
    "        \n",
    "        \n",
    "        iterations += 1\n",
    "    return x, iterations\n",
    "\n",
    "newton_raphson(x0=0.2)"
   ]
  },
  {
   "cell_type": "code",
   "execution_count": 9,
   "metadata": {},
   "outputs": [
    {
     "name": "stdout",
     "output_type": "stream",
     "text": [
      "Iteration Current Root        Error               \n",
      "--------------------------------------------------\n",
      "1         0.4136480925        3.7175007091e-01    \n",
      "2         0.6620621538        1.2333600960e-01    \n",
      "3         0.8217936563        3.6395492936e-02    \n",
      "4         0.7829812178        2.4169456175e-03    \n",
      "5         0.7853554007        4.2762711792e-05    \n",
      "6         0.7853982152        5.1783657140e-08    \n",
      "7         0.7853981634        1.1071144002e-12    \n",
      "8         0.7853981634        1.1102230246e-16    \n",
      "9         0.7853981634        1.1102230246e-16    \n"
     ]
    },
    {
     "data": {
      "text/plain": [
       "(0.7853981633974484, 9)"
      ]
     },
     "execution_count": 9,
     "metadata": {},
     "output_type": "execute_result"
    }
   ],
   "source": [
    "# Secant Method\n",
    "error_secant = []\n",
    "\n",
    "# start values taken as x0 and x1\n",
    "def secant_method(x0, x1, tol=machine_eps, max_iter=100):\n",
    "    print(f\"{'Iteration':<10}{'Current Root':<20}{'Error':<20}\")\n",
    "    print(\"-\" * 50)\n",
    "    \n",
    "    iterations = 0\n",
    "    while abs(x1 - x0) > tol and iterations < max_iter:\n",
    "        x2 = x1 - f(x1) * (x1 - x0) / (f(x1) - f(x0))\n",
    "        x0 = x1\n",
    "        x1 = x2\n",
    "        \n",
    "        error = abs(x1- x_true)\n",
    "        error_secant.append(error)\n",
    "        \n",
    "        print(f\"{iterations+1:<10}{x1:<20.10f}{error:<20.10e}\")\n",
    "        \n",
    "        iterations += 1\n",
    "    return x1, iterations\n",
    "\n",
    "secant_method(0, 2)"
   ]
  },
  {
   "cell_type": "code",
   "execution_count": 10,
   "metadata": {},
   "outputs": [
    {
     "name": "stderr",
     "output_type": "stream",
     "text": [
      "C:\\Users\\soumy\\AppData\\Local\\Temp\\ipykernel_14208\\987122964.py:3: RuntimeWarning: divide by zero encountered in log10\n",
      "  plt.plot(range(1, len(errors_bisection) + 1), np.log10(errors_bisection), label='Bisection')\n",
      "C:\\Users\\soumy\\AppData\\Local\\Temp\\ipykernel_14208\\987122964.py:16: RuntimeWarning: divide by zero encountered in log10\n",
      "  np.log10(errors_bisection)\n"
     ]
    },
    {
     "data": {
      "text/plain": [
       "array([ -0.66836657,  -0.54454883,  -1.45101927,  -1.04768309,\n",
       "        -1.56700128,  -2.38214414,  -1.9401778 ,  -2.43600464,\n",
       "        -3.61634008,  -2.76669628,  -3.13392005,  -3.60841596,\n",
       "        -5.65223541,  -3.92138702,  -4.23056412,  -4.54836167,\n",
       "        -4.88500354,  -5.267432  ,  -5.79929455,  -6.49501438,\n",
       "        -6.19805092,  -6.80421588,  -7.08905378,  -7.42309513,\n",
       "        -7.66043538,  -8.09981715,  -8.15773198,  -9.30447738,\n",
       "        -8.4908992 ,  -8.8643591 ,  -9.36123546, -10.51733401,\n",
       "        -9.69369258, -10.06535083, -10.5556087 , -11.89223345,\n",
       "       -10.87712012, -11.22226036, -11.62776253, -12.26974441,\n",
       "       -12.42928576, -13.08301683, -12.83931218, -13.50743174,\n",
       "       -13.58910179, -14.57437853, -13.93755643, -14.35252978,\n",
       "       -15.05149978, -15.05149978,         -inf, -15.35252978,\n",
       "       -15.65355977])"
      ]
     },
     "execution_count": 10,
     "metadata": {},
     "output_type": "execute_result"
    },
    {
     "data": {
      "image/png": "[encoded data removed]",
      "text/plain": [
       "<Figure size 640x480 with 1 Axes>"
      ]
     },
     "metadata": {},
     "output_type": "display_data"
    }
   ],
   "source": [
    "#Error plot for comparison\n",
    "\n",
    "plt.plot(range(1, len(errors_bisection) + 1), np.log10(errors_bisection), label='Bisection')\n",
    "# plt.plot(range(1, len(errors_bisection1) + 1), np.log10(errors_bisection1), label='Bisection Approximated Error')\n",
    "\n",
    "plt.plot(range(1, len(error_nr) + 1), np.log10(error_nr), label='Newton Raphson')\n",
    "\n",
    "plt.plot(range(1, len(error_secant) + 1), np.log10(error_secant), label='Secant')\n",
    "\n",
    "plt.xlabel(\"# of iterations\")\n",
    "plt.ylabel(\"log10(Error)\")\n",
    "plt.title(\"Comparison of Error Convergence\")\n",
    "\n",
    "plt.legend()\n",
    "\n",
    "np.log10(errors_bisection)"
   ]
  }
 ],
 "metadata": {
  "kernelspec": {
   "display_name": "Python 3",
   "language": "python",
   "name": "python3"
  },
  "language_info": {
   "codemirror_mode": {
    "name": "ipython",
    "version": 3
   },
   "file_extension": ".py",
   "mimetype": "text/x-python",
   "name": "python",
   "nbconvert_exporter": "python",
   "pygments_lexer": "ipython3",
   "version": "3.12.7"
  }
 },
 "nbformat": 4,
 "nbformat_minor": 2
}
