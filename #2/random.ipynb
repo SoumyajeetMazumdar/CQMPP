{
 "cells": [
  {
   "cell_type": "code",
   "execution_count": 16,
   "metadata": {},
   "outputs": [
    {
     "name": "stdout",
     "output_type": "stream",
     "text": [
      "Ionisation Energy, in eV = 12.175312499999997\n"
     ]
    }
   ],
   "source": [
    "import numpy as np\n",
    "\n",
    "h = 6.63e-34 # J/s\n",
    "c = 3e8 #m/s\n",
    "Lambda = 100*1e-9 #m\n",
    "\n",
    "# energy of irradiation (J)\n",
    "me = 9.1e-31 # electron mass, kg\n",
    "v = 0.001*c # 1% of c, m/s\n",
    "\n",
    "# KE = h.f - IE\n",
    "IE = h*c/Lambda - 0.5*me*v**2\n",
    "print(f\"Ionisation Energy, in eV = {IE/1.6e-19}\")"
   ]
  },
  {
   "cell_type": "code",
   "execution_count": 19,
   "metadata": {},
   "outputs": [
    {
     "name": "stdout",
     "output_type": "stream",
     "text": [
      "-5.328476855974734\n"
     ]
    }
   ],
   "source": [
    "e = 1.6e-19\n",
    "epsilon = 8.85e-12\n",
    "r = 2.7e-10\n",
    "\n",
    "print(-e**2/(4*np.pi*epsilon*r))"
   ]
  }
 ],
 "metadata": {
  "kernelspec": {
   "display_name": "Python 3",
   "language": "python",
   "name": "python3"
  },
  "language_info": {
   "codemirror_mode": {
    "name": "ipython",
    "version": 3
   },
   "file_extension": ".py",
   "mimetype": "text/x-python",
   "name": "python",
   "nbconvert_exporter": "python",
   "pygments_lexer": "ipython3",
   "version": "3.12.7"
  }
 },
 "nbformat": 4,
 "nbformat_minor": 2
}
