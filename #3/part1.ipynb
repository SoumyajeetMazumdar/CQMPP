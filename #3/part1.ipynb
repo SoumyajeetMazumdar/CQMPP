{
 "cells": [
  {
   "cell_type": "code",
   "execution_count": 475,
   "metadata": {},
   "outputs": [
    {
     "data": {
      "text/plain": [
       "([[1, 1, 1, 1, 1],\n",
       "  [-2, -1, 0, 1, 2],\n",
       "  [4, 1, 0, 1, 4],\n",
       "  [-8, -1, 0, 1, 8],\n",
       "  [16, 1, 0, 1, 16]],\n",
       " [0, 1, 0, 0, 0])"
      ]
     },
     "execution_count": 475,
     "metadata": {},
     "output_type": "execute_result"
    }
   ],
   "source": [
    "# Displaying the correct A matrix for each type : Forward. Central, Backward\n",
    "import numpy as np\n",
    "import pandas as pd\n",
    "import math\n",
    "from matplotlib import pyplot as plt\n",
    "\n",
    "\n",
    "# Given parameters\n",
    "n = 5  # Number of points in the stencil\n",
    "l = 3  # Position of the derivative in the stencil (central for 5-point)\n",
    "d = 1  # Derivative order\n",
    "\n",
    "a = [j - l for j in range(1, n + 1)]  # Relative positions of stencil points\n",
    "\n",
    "# Construct matrix A (Vandermonde-like matrix)\n",
    "A = [[a[j]**i for j in range(n)] for i in range(n)]\n",
    "\n",
    "# Construct vector b (condition vector)\n",
    "b = [math.factorial(d) if i == d else 0 for i in range(n)]\n",
    "\n",
    "# Display matrices A and b\n",
    "A, b"
   ]
  },
  {
   "cell_type": "markdown",
   "metadata": {},
   "source": [
    "Matrices A and b are displayed correctly."
   ]
  },
  {
   "cell_type": "code",
   "execution_count": 476,
   "metadata": {},
   "outputs": [],
   "source": [
    "A_inv = np.linalg.inv(A)"
   ]
  },
  {
   "cell_type": "code",
   "execution_count": 477,
   "metadata": {},
   "outputs": [
    {
     "data": {
      "text/plain": [
       "array([ 0.08333333, -0.66666667,  0.        ,  0.66666667, -0.08333333])"
      ]
     },
     "execution_count": 477,
     "metadata": {},
     "output_type": "execute_result"
    }
   ],
   "source": [
    "h = 1\n",
    "\n",
    "# computing the stenctil coefficients c1,c2,..... (given in text as a,b,c.....)\n",
    "D = 1/h**d * np.dot(A_inv, b)\n",
    "\n",
    "D"
   ]
  },
  {
   "cell_type": "code",
   "execution_count": 478,
   "metadata": {},
   "outputs": [],
   "source": [
    "def returnStencilCoefficients(n,l,d,h):\n",
    "    a = [j - l for j in range(1, n + 1)]  # Relative positions of stencil points\n",
    "    # Construct matrix A (Vandermonde-like matrix)\n",
    "    A = [[a[j]**i for j in range(n)] for i in range(n)]\n",
    "    # Construct vector b (condition vector)\n",
    "    b = [math.factorial(d) if i == d else 0 for i in range(n)]\n",
    "        \n",
    "    A_inv = np.linalg.inv(A)\n",
    "    \n",
    "    # h = 0.1 \n",
    "\n",
    "    # computing the stenctil coefficients c1,c2,..... (given in text as a,b,c.....)\n",
    "    D = 1/h**d * np.dot(A_inv, b)\n",
    "        \n",
    "    return D"
   ]
  },
  {
   "cell_type": "code",
   "execution_count": 479,
   "metadata": {},
   "outputs": [
    {
     "data": {
      "text/plain": [
       "array([-1.5,  2. , -0.5])"
      ]
     },
     "execution_count": 479,
     "metadata": {},
     "output_type": "execute_result"
    }
   ],
   "source": [
    "returnStencilCoefficients(n=3,l=1,d=1,h=1)"
   ]
  },
  {
   "cell_type": "markdown",
   "metadata": {},
   "source": [
    "Calculations are correct till the evaluation of D,A and b (Tested with cases from lecture notes)"
   ]
  },
  {
   "cell_type": "code",
   "execution_count": 480,
   "metadata": {},
   "outputs": [
    {
     "data": {
      "text/plain": [
       "0.9624581902172321"
      ]
     },
     "execution_count": 480,
     "metadata": {},
     "output_type": "execute_result"
    }
   ],
   "source": [
    "# Evaluation of e^x using this method\n",
    "# we have evaluation point\n",
    "x_val = 0 \n",
    " \n",
    "x = [x_val - 2*h, x_val -1*h, x_val, x_val+h, x_val+2*h]\n",
    "fx = np.exp(x)\n",
    "\n",
    "derivative = np.dot(D, np.transpose(fx))\n",
    "derivative"
   ]
  },
  {
   "cell_type": "markdown",
   "metadata": {},
   "source": [
    "Correct derivative functioning established"
   ]
  },
  {
   "cell_type": "markdown",
   "metadata": {},
   "source": [
    "### Question 2: Creating a generalised approach"
   ]
  },
  {
   "cell_type": "code",
   "execution_count": 481,
   "metadata": {},
   "outputs": [],
   "source": [
    "a = -0.5\n",
    "b = 0.5\n",
    "N = 10\n",
    "\n",
    "x_val = np.linspace(a,b,N+1)\n",
    "# print(x_val)\n",
    "\n",
    "# or can be assessed as N+1 points on the grid, N=10\n",
    "# then, h = 0.5-(-0.5)/10\n",
    "# now proceed\n",
    "h = (b-a)/N\n",
    "# print(h)\n",
    "\n",
    "fx_vals = np.exp(x_val)\n",
    "# print(fx_vals)\n",
    "\n",
    "f_prime = np.zeros(len(x_val))"
   ]
  },
  {
   "cell_type": "markdown",
   "metadata": {},
   "source": [
    "We need to generate the f'(x) for each of the above 11 points\n",
    "\n",
    "But, 3 point central difference can be applied only t"
   ]
  },
  {
   "cell_type": "code",
   "execution_count": 482,
   "metadata": {},
   "outputs": [
    {
     "data": {
      "image/png": "[encoded data removed]",
      "text/plain": [
       "<Figure size 640x480 with 1 Axes>"
      ]
     },
     "metadata": {},
     "output_type": "display_data"
    }
   ],
   "source": [
    "central_5_point_stencil = returnStencilCoefficients(5, (5+1)//2, 1, h)\n",
    "\n",
    "#applying the 3 point scheme to the central elements\n",
    "for i in range(2,len(fx_vals)-2): # leaving first and last ones out\n",
    "    # temp_x = [round(x_val[k],2) for k in range(i-1,i+1+1)]\n",
    "    # print(temp_x) \n",
    "    # properly being accessed\n",
    "    \n",
    "    temp_x = [fx_vals[k] for k in range(i-2,i+1+2)] # gives a 5-point array to calculate the derivative at current index\n",
    "    \n",
    "    f_prime[i] = np.dot(central_5_point_stencil, np.transpose(temp_x))\n",
    "    \n",
    "f_prime\n",
    "\n",
    "plt.plot(x_val, fx_vals,\"-\" ,  label = \"Func\")\n",
    "plt.plot(x_val, f_prime, \"ok\", label = \"Deriv\")\n",
    "plt.legend()\n",
    "plt.grid()"
   ]
  },
  {
   "cell_type": "markdown",
   "metadata": {},
   "source": [
    "Going in the right direction, but still **some deviation seems to exist**, very evident at lower values\n",
    "\n",
    "Deviation eliminated in further trial, minor expression issue for central : (n+1/2) instead of the correct thing"
   ]
  },
  {
   "cell_type": "code",
   "execution_count": 483,
   "metadata": {},
   "outputs": [
    {
     "data": {
      "image/png": "[encoded data removed]",
      "text/plain": [
       "<Figure size 640x480 with 1 Axes>"
      ]
     },
     "metadata": {},
     "output_type": "display_data"
    }
   ],
   "source": [
    "forward_5_point_stencil = returnStencilCoefficients(5, 1, 1, h)\n",
    "for i in range(0,1+1): # first two only\n",
    "    \n",
    "    temp_x = [fx_vals[k] for k in range(i, i+5)] # gives a 5-point array to calculate the derivative at current index\n",
    "    # print(temp_x)\n",
    "    \n",
    "    f_prime[i] = np.dot(forward_5_point_stencil, np.transpose(temp_x))\n",
    "    \n",
    "backward_5_point_stencil = returnStencilCoefficients(5, 5, 1, h)\n",
    "for i in range(N-1,N+1): # first two only\n",
    "    temp_x = [fx_vals[k] for k in range((i+1)-5, i+1)] # gives a 5-point array to calculate the derivative at current index\n",
    "    \n",
    "    f_prime[i] = np.dot(backward_5_point_stencil, np.transpose(temp_x))\n",
    "    \n",
    "plt.plot(x_val, fx_vals,\"-\" ,  label = \"Func\")\n",
    "plt.plot(x_val, f_prime, \"ok\", label = \"Deriv\")\n",
    "plt.legend()\n",
    "plt.grid()\n"
   ]
  },
  {
   "cell_type": "markdown",
   "metadata": {},
   "source": [
    "##### 2nd part SUCESSFULLY IMPLEMENTED, refining required, but values absolutely correct as verified by demo function e^x"
   ]
  },
  {
   "cell_type": "markdown",
   "metadata": {},
   "source": [
    "### Question 3 - Implementation for the given specific function, and tallying the errors"
   ]
  },
  {
   "cell_type": "code",
   "execution_count": null,
   "metadata": {},
   "outputs": [],
   "source": [
    "# defining the given function\n",
    "def f(x):\n",
    "    sum = 0\n",
    "    for k in range(1,5+1):\n",
    "        sum = sum + (np.sin(2*np.pi*x* (2*k-1)))/(2*k - 1)\n",
    "    \n",
    "    sum = sum*(4/np.pi)\n",
    "    return sum\n",
    "\n",
    "# Implementation for n = [3, 5]\n",
    "N = 200 # for 201 points\n",
    "for n in [5]:\n",
    "    central_5_point_stencil = returnStencilCoefficients(5, (5+1)//2, 1, h)\n",
    "    for i in range(2,len(fx_vals)-2): # leaving first and last ones out\n",
    "        temp_x = [fx_vals[k] for k in range(i-2,i+1+2)] # gives a 5-point array to calculate the derivative at current index\n",
    "        \n",
    "        f_prime[i] = np.dot(central_5_point_stencil, np.transpose(temp_x))\n",
    "    \n",
    "    forward_5_point_stencil = returnStencilCoefficients(5, 1, 1, h)\n",
    "    for i in range(0,1+1): # first two only\n",
    "        \n",
    "        temp_x = [fx_vals[k] for k in range(i, i+5)] \n",
    "        f_prime[i] = np.dot(forward_5_point_stencil, np.transpose(temp_x))\n",
    "        \n",
    "    backward_5_point_stencil = returnStencilCoefficients(5, 5, 1, h)\n",
    "    for i in range(N-1,N+1): # last two only\n",
    "        temp_x = [fx_vals[k] for k in range((i+1)-5, i+1)] \n",
    "        f_prime[i] = np.dot(backward_5_point_stencil, np.transpose(temp_x))\n",
    "    \n"
   ]
  }
 ],
 "metadata": {
  "kernelspec": {
   "display_name": "computational",
   "language": "python",
   "name": "python3"
  },
  "language_info": {
   "codemirror_mode": {
    "name": "ipython",
    "version": 3
   },
   "file_extension": ".py",
   "mimetype": "text/x-python",
   "name": "python",
   "nbconvert_exporter": "python",
   "pygments_lexer": "ipython3",
   "version": "3.12.7"
  }
 },
 "nbformat": 4,
 "nbformat_minor": 2
}
