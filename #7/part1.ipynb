{
 "cells": [
  {
   "cell_type": "code",
   "execution_count": 25,
   "metadata": {},
   "outputs": [],
   "source": [
    "import numpy as np\n",
    "from matplotlib import pyplot as plt\n",
    "from scipy.sparse import diags\n",
    "\n",
    "# Defining the constants required\n",
    "Z = 1 # hydrogren atom\n",
    "dr = 0.2 # step size\n",
    "N = 200 # number of grid points\n",
    "r_vec = np.linspace(dr, N*dr, N) # radial grid\n",
    "l = 0 # orbital quantum number\n",
    "\n",
    "# Potential vector for Hydrogen\n",
    "V_vec = -Z/r_vec\n",
    "\n",
    "\n",
    "# Imaginary time step (Δτ)\n",
    "delta = -1\n",
    "E_k = -0.5\n",
    "delta_tau = 2*delta/E_k\n",
    "imagDeltaTau = (-1j*delta_tau)"
   ]
  },
  {
   "cell_type": "code",
   "execution_count": 26,
   "metadata": {},
   "outputs": [],
   "source": [
    "# generates the sparse matrix where 0's are not stored in memory\n",
    "# needs conversion into general matrix for proper viewing\n",
    "def generateSparseMatrix(upper, mid, lower):\n",
    "    return diags([lower, mid, upper], offsets=[-1, 0, 1], format=\"csr\")\n",
    "\n",
    "# fn to define the various matrices involved in the computation process\n",
    "def create_matrices(r_vec, V_vec, Z, l, delta_tau):\n",
    "    h = r_vec[1] - r_vec[0] # = 0.2\n",
    "    N = len(r_vec) # legth of radial grid\n",
    "    \n",
    "    # creating the matrix D by defining the diagonals of the tridiagonal matrix\n",
    "    D_lower = np.ones(N-1, dtype=complex) \n",
    "    D_upper = np.ones(N-1, dtype=complex) \n",
    "    D_mid = -2*np.ones(N, dtype=complex) # -2's present only \n",
    "    \n",
    "    D = generateSparseMatrix(D_upper, D_mid, D_lower) # SPARSE, dense conversion not done (Only for viewing)\n",
    "    \n",
    "    "
   ]
  }
 ],
 "metadata": {
  "kernelspec": {
   "display_name": "computational",
   "language": "python",
   "name": "python3"
  },
  "language_info": {
   "codemirror_mode": {
    "name": "ipython",
    "version": 3
   },
   "file_extension": ".py",
   "mimetype": "text/x-python",
   "name": "python",
   "nbconvert_exporter": "python",
   "pygments_lexer": "ipython3",
   "version": "3.12.7"
  }
 },
 "nbformat": 4,
 "nbformat_minor": 2
}
