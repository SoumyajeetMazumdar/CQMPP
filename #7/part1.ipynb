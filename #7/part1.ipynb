{
 "cells": [
  {
   "cell_type": "code",
   "execution_count": 25,
   "metadata": {},
   "outputs": [],
   "source": [
    "import numpy as np\n",
    "from matplotlib import pyplot as plt\n",
    "from scipy import sparse\n",
    "\n",
    "# Defining the constants required\n",
    "Z = 1 # hydrogren atom\n",
    "dr = 0.2 # step size\n",
    "N = 200 # number of grid points\n",
    "r_vec = np.linspace(dr, N*dr, N) # radial grid\n",
    "l = 0 # orbital quantum number\n",
    "\n",
    "# Potential vector for Hydrogen\n",
    "V_vec = -Z/r_vec\n",
    "\n",
    "\n",
    "# Imaginary time step (Δτ)\n",
    "delta = -1\n",
    "E_k = -0.5\n",
    "delta_tau = 2*delta/E_k\n",
    "imagDeltaTau = (-1j*delta_tau)"
   ]
  },
  {
   "cell_type": "code",
   "execution_count": 26,
   "metadata": {},
   "outputs": [],
   "source": [
    "# generates the sparse matrix where 0's are not stored in memory\n",
    "# needs conversion into general matrix for proper viewing\n",
    "def generateSparseMatrix(upper, mid, lower):\n",
    "    return sparse.diags([lower, mid, upper], offsets=[-1, 0, 1], format=\"csr\")\n",
    "\n",
    "# fn to define the various matrices involved in the computation process\n",
    "def create_matrices(r_vec, V_vec, Z, l, delta_tau):\n",
    "    h = r_vec[1] - r_vec[0] # = 0.2\n",
    "    N = len(r_vec) # legth of radial grid\n",
    "    \n",
    "    # creating the matrix D by defining the diagonals of the tridiagonal matrix\n",
    "    D_lower = np.ones(N-1, dtype=complex) \n",
    "    D_upper = np.ones(N-1, dtype=complex) \n",
    "    D_mid = -2*np.ones(N, dtype=complex) \n",
    "    D = (1/h**2)*generateSparseMatrix(D_upper, D_mid, D_lower) # SPARSE, dense conversion not done (Only for viewing)\n",
    "    \n",
    "    # creating the matrix M2 in the same way\n",
    "    M2_lower = np.ones(N-1, dtype=complex) \n",
    "    M2_upper = np.ones(N-1, dtype=complex) \n",
    "    M2_mid = 10*np.ones(N, dtype=complex)\n",
    "    M2 = (-1/6)*generateSparseMatrix(M2_upper, M2_mid, M2_lower) # SPARSE\n",
    "    \n",
    "    # generating the diagonal potential matrix filled with the V_vec, SPARSE\n",
    "    V_matrix = sparse.spdiags([V_vec], [0], N, N)\n",
    "    \n",
    "    # Effective hamiltonian for the CN step : D + M2.V (V=Vl, as l=0 here)\n",
    "    H_eff= D + M2 @ V_matrix\n",
    "    \n"
   ]
  }
 ],
 "metadata": {
  "kernelspec": {
   "display_name": "computational",
   "language": "python",
   "name": "python3"
  },
  "language_info": {
   "codemirror_mode": {
    "name": "ipython",
    "version": 3
   },
   "file_extension": ".py",
   "mimetype": "text/x-python",
   "name": "python",
   "nbconvert_exporter": "python",
   "pygments_lexer": "ipython3",
   "version": "3.12.7"
  }
 },
 "nbformat": 4,
 "nbformat_minor": 2
}
